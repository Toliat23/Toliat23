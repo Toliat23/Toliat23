{
  "nbformat": 4,
  "nbformat_minor": 0,
  "metadata": {
    "colab": {
      "provenance": [],
      "authorship_tag": "ABX9TyOWHSPP3hJ2mq/L+XtCNvK7",
      "include_colab_link": true
    },
    "kernelspec": {
      "name": "python3",
      "display_name": "Python 3"
    },
    "language_info": {
      "name": "python"
    }
  },
  "cells": [
    {
      "cell_type": "markdown",
      "metadata": {
        "id": "view-in-github",
        "colab_type": "text"
      },
      "source": [
        "<a href=\"https://colab.research.google.com/github/Toliat23/Toliat23/blob/main/Cyber_Security_3mmt_python_class.ipynb\" target=\"_parent\"><img src=\"https://colab.research.google.com/assets/colab-badge.svg\" alt=\"Open In Colab\"/></a>"
      ]
    },
    {
      "cell_type": "code",
      "source": [
        "print(\"Hello World\")\n",
        "#print(\"Hello Again\")\n",
        "print(\"I like typing this.\")\n",
        "print(\"This is fun.\")\n",
        "print('Yay! Printing.')\n",
        "print(\"I'd much rather you 'not'.\")\n",
        "print('I \"said\" do not touch this.')\n",
        "print(4*4*4-3/4)"
      ],
      "metadata": {
        "colab": {
          "base_uri": "https://localhost:8080/"
        },
        "id": "g7atLmnVPYd1",
        "outputId": "979421f7-0e9b-4375-df44-b3a7cad4b4be"
      },
      "execution_count": null,
      "outputs": [
        {
          "output_type": "stream",
          "name": "stdout",
          "text": [
            "Hello World\n",
            "I like typing this.\n",
            "This is fun.\n",
            "Yay! Printing.\n",
            "I'd much rather you 'not'.\n",
            "I \"said\" do not touch this.\n",
            "63.25\n"
          ]
        }
      ]
    },
    {
      "cell_type": "code",
      "source": [
        "\"\"\"jujjggkhjglhvkgfjhl\n",
        "hjfgkjkhkfgl\n",
        "gjgkl,ghkjljukjjyukjghyu\"\"\"\n",
        "print(\"multiline comments\")"
      ],
      "metadata": {
        "colab": {
          "base_uri": "https://localhost:8080/"
        },
        "id": "ozrc8iSKTNbe",
        "outputId": "db0bc532-c52e-4c65-e1ad-3d0b7b0e82b9"
      },
      "execution_count": null,
      "outputs": [
        {
          "output_type": "stream",
          "name": "stdout",
          "text": [
            "multiline comments\n"
          ]
        }
      ]
    },
    {
      "cell_type": "markdown",
      "source": [
        "VARIABLES"
      ],
      "metadata": {
        "id": "LPV0qQTHUMKp"
      }
    },
    {
      "cell_type": "code",
      "source": [
        "num1 = 10\n",
        "num2 = 20\n",
        "sum = num1 + num2\n",
        "print(sum)"
      ],
      "metadata": {
        "colab": {
          "base_uri": "https://localhost:8080/"
        },
        "id": "-x2nHAILUOWP",
        "outputId": "510f603d-612c-45b4-ec3c-b1815f1933e8"
      },
      "execution_count": null,
      "outputs": [
        {
          "output_type": "stream",
          "name": "stdout",
          "text": [
            "30\n"
          ]
        }
      ]
    },
    {
      "cell_type": "code",
      "source": [
        "routermacaddr = \"fec5::bg67::6788:trhr\"\n",
        "print(routermacaddr)\n"
      ],
      "metadata": {
        "colab": {
          "base_uri": "https://localhost:8080/"
        },
        "id": "2WYBvbWfca_L",
        "outputId": "7af63c23-8366-467c-e57c-9ad864baa7b4"
      },
      "execution_count": null,
      "outputs": [
        {
          "output_type": "stream",
          "name": "stdout",
          "text": [
            "fec5::bg67::6788:trhr\n"
          ]
        }
      ]
    },
    {
      "cell_type": "code",
      "source": [
        "#camel-case\n",
        "#print (\"camel case\")\n",
        "routerMacAddr = \"fec5::bg67::6788:trhr\"\n",
        "print(routerMacAddr)"
      ],
      "metadata": {
        "colab": {
          "base_uri": "https://localhost:8080/"
        },
        "id": "LirTjxShc7vI",
        "outputId": "e4a4ffde-1f48-46d0-fe61-6f5c199b5b4a"
      },
      "execution_count": null,
      "outputs": [
        {
          "output_type": "stream",
          "name": "stdout",
          "text": [
            "fec5::bg67::6788:trhr\n"
          ]
        }
      ]
    },
    {
      "cell_type": "code",
      "source": [
        "#many values to multiple variables\n",
        "ip_addr1, ip_addr2, ip =_addr3 = \"10.10.10.1\", \"10.10.10.2\", \"10.10.10.3\"\n",
        "print(ip_addr2)\n",
        "\n",
        "#one value to multiple variables\n",
        "ip_addr1 = ip_addr2 = ip_addr3 = \"10.10.10.1\"\n",
        "print(ip_addr2)"
      ],
      "metadata": {
        "colab": {
          "base_uri": "https://localhost:8080/"
        },
        "id": "24Cc8PQrd06o",
        "outputId": "0a53dce2-6b28-4bf6-d228-8fdfe41877ea"
      },
      "execution_count": null,
      "outputs": [
        {
          "output_type": "stream",
          "name": "stdout",
          "text": [
            "10.10.10.2\n",
            "10.10.10.1\n"
          ]
        }
      ]
    },
    {
      "cell_type": "code",
      "source": [
        "print_function = \"print\"\n",
        "print(type(\"5\"))"
      ],
      "metadata": {
        "colab": {
          "base_uri": "https://localhost:8080/"
        },
        "id": "S3QggoHJendk",
        "outputId": "1455fd34-0d6a-428d-e15a-391f224e801d"
      },
      "execution_count": null,
      "outputs": [
        {
          "output_type": "stream",
          "name": "stdout",
          "text": [
            "<class 'str'>\n"
          ]
        }
      ]
    },
    {
      "cell_type": "markdown",
      "source": [
        "Global & Local Variables"
      ],
      "metadata": {
        "id": "zhZvS6o5gkUM"
      }
    },
    {
      "cell_type": "code",
      "source": [
        "protocol = \"https\"\n",
        "\n",
        "def my_network():\n",
        "  print(protocol + \"://google.com\")"
      ],
      "metadata": {
        "id": "QERqe9nWgo5x"
      },
      "execution_count": null,
      "outputs": []
    },
    {
      "cell_type": "code",
      "source": [
        "my_network()"
      ],
      "metadata": {
        "colab": {
          "base_uri": "https://localhost:8080/"
        },
        "id": "3DFj2JtIhXaA",
        "outputId": "103bd0d7-f7bb-4f8a-8e8e-ceb2bad3a9fb"
      },
      "execution_count": null,
      "outputs": [
        {
          "output_type": "stream",
          "name": "stdout",
          "text": [
            "https://google.com\n"
          ]
        }
      ]
    },
    {
      "cell_type": "code",
      "source": [
        "print (protocol)"
      ],
      "metadata": {
        "colab": {
          "base_uri": "https://localhost:8080/"
        },
        "id": "dYYvUozEha_W",
        "outputId": "f0297e09-9316-47e1-c7a2-da1cebdf06d0"
      },
      "execution_count": null,
      "outputs": [
        {
          "output_type": "stream",
          "name": "stdout",
          "text": [
            "https\n"
          ]
        }
      ]
    },
    {
      "cell_type": "code",
      "source": [
        "def my_domain():\n",
        "  global protocol2\n",
        "  protocol2 = \"http\"\n",
        "  print(protocol2 + \"://google.com\")"
      ],
      "metadata": {
        "id": "OfsJ9RtIjaCH"
      },
      "execution_count": null,
      "outputs": []
    },
    {
      "cell_type": "code",
      "source": [
        "my_domain()"
      ],
      "metadata": {
        "colab": {
          "base_uri": "https://localhost:8080/"
        },
        "id": "1KtAsL44jX6-",
        "outputId": "c1f48b3f-0233-4e4e-e767-8349f2952ee6"
      },
      "execution_count": null,
      "outputs": [
        {
          "output_type": "stream",
          "name": "stdout",
          "text": [
            "http://google.com\n"
          ]
        }
      ]
    },
    {
      "cell_type": "code",
      "source": [
        "print (protocol2)"
      ],
      "metadata": {
        "colab": {
          "base_uri": "https://localhost:8080/"
        },
        "id": "RGXHn_-lkFNS",
        "outputId": "1fd115b9-353a-4d19-eeca-e42f4b71183c"
      },
      "execution_count": null,
      "outputs": [
        {
          "output_type": "stream",
          "name": "stdout",
          "text": [
            "http\n"
          ]
        }
      ]
    },
    {
      "cell_type": "code",
      "source": [
        "alert = \"attacks imminent\"\n",
        "print(alert[0:7])\n",
        "print(alert[1])"
      ],
      "metadata": {
        "colab": {
          "base_uri": "https://localhost:8080/"
        },
        "id": "i4cekatWmTzZ",
        "outputId": "41529432-dcf8-4a7e-93a1-2efac9133a09"
      },
      "execution_count": null,
      "outputs": [
        {
          "output_type": "stream",
          "name": "stdout",
          "text": [
            "attacks\n",
            "t\n"
          ]
        }
      ]
    },
    {
      "cell_type": "code",
      "source": [
        "alert = \"IDS with signature 123 has indicated a potential threat\"\n",
        "print(alert)\n"
      ],
      "metadata": {
        "colab": {
          "base_uri": "https://localhost:8080/"
        },
        "id": "4p-RDYUvolik",
        "outputId": "caec7773-4449-4e9e-c421-168b4aba411d"
      },
      "execution_count": null,
      "outputs": [
        {
          "output_type": "stream",
          "name": "stdout",
          "text": [
            "IDS with signature 123 has indicated a potential threat\n"
          ]
        }
      ]
    },
    {
      "cell_type": "code",
      "source": [
        "if \"threat\" in alert or \"attack\" in alert or \"malicious\" in alert:\n",
        "  print (\"security incident detected\")\n",
        "else:\n",
        "    print(\"No security incident detected\")"
      ],
      "metadata": {
        "colab": {
          "base_uri": "https://localhost:8080/"
        },
        "id": "8VzH2wMdo569",
        "outputId": "38f91f8f-24c6-49b3-8157-2be027c30e59"
      },
      "execution_count": null,
      "outputs": [
        {
          "output_type": "stream",
          "name": "stdout",
          "text": [
            "security incident detected\n"
          ]
        }
      ]
    },
    {
      "cell_type": "code",
      "source": [
        "alert = \"IDS with signature 123 has indicated a potential threat\"\n",
        "print(alert)\n",
        "if \"threat\" in alert or \"attack\" in alert or \"malicious\" in alert:\n",
        "  print (\"security incident detected\")\n",
        "else:\n",
        "    print(\"No security incident detected\")\n",
        "\n"
      ],
      "metadata": {
        "colab": {
          "base_uri": "https://localhost:8080/"
        },
        "id": "dGNl8wdrqpn-",
        "outputId": "5723d1e2-88bf-46a3-89cb-d2c77d4574e2"
      },
      "execution_count": null,
      "outputs": [
        {
          "output_type": "stream",
          "name": "stdout",
          "text": [
            "IDS with signature 123 has indicated a potential threat\n",
            "security incident detected\n"
          ]
        }
      ]
    },
    {
      "cell_type": "code",
      "source": [
        "num = 10\n",
        "num1 = 20.4\n",
        "num2 = 10j\n",
        "print(type(num))\n",
        "print(type(num1))\n",
        "print(type(num2))\n",
        "print(num + num1)\n",
        "print(type(num))"
      ],
      "metadata": {
        "colab": {
          "base_uri": "https://localhost:8080/"
        },
        "id": "W7mYZJ4NuytY",
        "outputId": "8d98c18d-2458-40cb-a2eb-d79f33c70d5a"
      },
      "execution_count": null,
      "outputs": [
        {
          "output_type": "stream",
          "name": "stdout",
          "text": [
            "<class 'int'>\n",
            "<class 'float'>\n",
            "<class 'complex'>\n",
            "30.4\n",
            "<class 'int'>\n"
          ]
        }
      ]
    },
    {
      "cell_type": "code",
      "source": [],
      "metadata": {
        "id": "xFD4Z8oYwJGS"
      },
      "execution_count": null,
      "outputs": []
    },
    {
      "cell_type": "markdown",
      "source": [
        "PYHTON DATA TYPES\n",
        "\n",
        "is ordered\n",
        "is index\n",
        "is changeable\n",
        "allow duplicates\n"
      ],
      "metadata": {
        "id": "pMxUHMZHzMIR"
      }
    },
    {
      "cell_type": "code",
      "source": [
        "ports = [\"22\", \"80\", \"443\", \"25\"]\n",
        "print(ports)\n"
      ],
      "metadata": {
        "colab": {
          "base_uri": "https://localhost:8080/"
        },
        "id": "F7DGy1RgzVsy",
        "outputId": "63596c57-c547-4286-b05c-63012ea3e5a3"
      },
      "execution_count": 8,
      "outputs": [
        {
          "output_type": "stream",
          "name": "stdout",
          "text": [
            "['22', '80', '443', '25']\n"
          ]
        }
      ]
    },
    {
      "cell_type": "code",
      "source": [
        "print(type(ports))\n"
      ],
      "metadata": {
        "colab": {
          "base_uri": "https://localhost:8080/"
        },
        "id": "8NzucKVE1hgK",
        "outputId": "5fe27127-91e9-4c78-9336-9a60f70269f2"
      },
      "execution_count": 9,
      "outputs": [
        {
          "output_type": "stream",
          "name": "stdout",
          "text": [
            "<class 'list'>\n"
          ]
        }
      ]
    },
    {
      "cell_type": "code",
      "source": [
        "high = len(ports) - 1\n",
        "print(ports[high])"
      ],
      "metadata": {
        "colab": {
          "base_uri": "https://localhost:8080/"
        },
        "id": "-UQjln1d1xAz",
        "outputId": "b08efe5e-83e7-4cb1-cae7-0cab2153c587"
      },
      "execution_count": 12,
      "outputs": [
        {
          "output_type": "stream",
          "name": "stdout",
          "text": [
            "25\n"
          ]
        }
      ]
    },
    {
      "cell_type": "code",
      "source": [
        "status = [ 22, \"http\", True, 22]\n",
        "print(status)"
      ],
      "metadata": {
        "colab": {
          "base_uri": "https://localhost:8080/"
        },
        "id": "Nk9iF1S33lAE",
        "outputId": "77085e05-8f74-45e0-a90e-7165ec347e1d"
      },
      "execution_count": 13,
      "outputs": [
        {
          "output_type": "stream",
          "name": "stdout",
          "text": [
            "[22, 'http', True, 22]\n"
          ]
        }
      ]
    },
    {
      "cell_type": "code",
      "source": [
        "print(len(status))\n"
      ],
      "metadata": {
        "colab": {
          "base_uri": "https://localhost:8080/"
        },
        "id": "s8R-AdtT4FB7",
        "outputId": "df116ed4-e687-4ef0-b8bf-b5c226d666e7"
      },
      "execution_count": 15,
      "outputs": [
        {
          "output_type": "stream",
          "name": "stdout",
          "text": [
            "4\n"
          ]
        }
      ]
    },
    {
      "cell_type": "code",
      "source": [
        "status [3] = 23\n",
        "print(status)"
      ],
      "metadata": {
        "colab": {
          "base_uri": "https://localhost:8080/"
        },
        "id": "Bf-wALqG4aNT",
        "outputId": "afdcfea5-d073-4a14-924d-cde04d40cd16"
      },
      "execution_count": 16,
      "outputs": [
        {
          "output_type": "stream",
          "name": "stdout",
          "text": [
            "[22, 'http', True, 23]\n"
          ]
        }
      ]
    },
    {
      "cell_type": "code",
      "source": [
        "scanners = list((\"ssh\", \"telnet\", \"ftp\"))\n",
        "print(type(scanners))\n",
        "print(scanners)"
      ],
      "metadata": {
        "colab": {
          "base_uri": "https://localhost:8080/"
        },
        "id": "V36WjyGL5AdW",
        "outputId": "a4c29f76-279b-48ab-83fa-ede3c1d0ce08"
      },
      "execution_count": 21,
      "outputs": [
        {
          "output_type": "stream",
          "name": "stdout",
          "text": [
            "<class 'list'>\n",
            "['ssh', 'telnet', 'ftp']\n"
          ]
        }
      ]
    },
    {
      "cell_type": "code",
      "source": [
        "print (\"ssh\" in scanners)"
      ],
      "metadata": {
        "colab": {
          "base_uri": "https://localhost:8080/"
        },
        "id": "lqGaevRS5fQE",
        "outputId": "7b9800d6-b10b-4e06-b0b7-d2a8eb3ac3d2"
      },
      "execution_count": 22,
      "outputs": [
        {
          "output_type": "stream",
          "name": "stdout",
          "text": [
            "True\n"
          ]
        }
      ]
    },
    {
      "cell_type": "code",
      "source": [
        "print (\"http\" in scanners)"
      ],
      "metadata": {
        "colab": {
          "base_uri": "https://localhost:8080/"
        },
        "id": "AnoudWrn5q4A",
        "outputId": "7ccc5acd-648b-46ab-d4ab-d6c1fcc05378"
      },
      "execution_count": 23,
      "outputs": [
        {
          "output_type": "stream",
          "name": "stdout",
          "text": [
            "False\n"
          ]
        }
      ]
    },
    {
      "cell_type": "code",
      "source": [
        "print(ports)"
      ],
      "metadata": {
        "colab": {
          "base_uri": "https://localhost:8080/"
        },
        "id": "idjUsqxy5zhG",
        "outputId": "eeaac171-cf83-4ef3-a8cb-eaf613a8961e"
      },
      "execution_count": 24,
      "outputs": [
        {
          "output_type": "stream",
          "name": "stdout",
          "text": [
            "['22', '80', '443', '25']\n"
          ]
        }
      ]
    },
    {
      "cell_type": "code",
      "source": [
        "#append\n",
        "ports.append(8080)\n",
        "print(ports)"
      ],
      "metadata": {
        "colab": {
          "base_uri": "https://localhost:8080/"
        },
        "id": "XH83MprT6Odw",
        "outputId": "0f9d93ff-111b-4ee9-a5e9-48500a494a18"
      },
      "execution_count": 27,
      "outputs": [
        {
          "output_type": "stream",
          "name": "stdout",
          "text": [
            "['22', '80', '443', '25', 23, 8080]\n"
          ]
        }
      ]
    },
    {
      "cell_type": "code",
      "source": [
        "#insert\n",
        "ports.insert(2, \"229\")\n",
        "print(ports)"
      ],
      "metadata": {
        "colab": {
          "base_uri": "https://localhost:8080/"
        },
        "id": "nRazOMo_6Wn3",
        "outputId": "b1736ec0-deec-4a03-ab89-c400c7744fea"
      },
      "execution_count": 31,
      "outputs": [
        {
          "output_type": "stream",
          "name": "stdout",
          "text": [
            "['22', '80', '229', '229', '443', '25', 23, 8080]\n"
          ]
        }
      ]
    },
    {
      "cell_type": "markdown",
      "source": [
        "Removing an item from a list"
      ],
      "metadata": {
        "id": "RXXNn8vx70Wr"
      }
    },
    {
      "cell_type": "code",
      "source": [
        "ports.remove(\"22\")\n",
        "print(ports)"
      ],
      "metadata": {
        "colab": {
          "base_uri": "https://localhost:8080/"
        },
        "id": "pKGtmcAZ74zl",
        "outputId": "acc781d1-453f-45c8-a550-ddb60d5a3603"
      },
      "execution_count": 38,
      "outputs": [
        {
          "output_type": "stream",
          "name": "stdout",
          "text": [
            "['80', '443', '25', 23, 8080]\n"
          ]
        }
      ]
    },
    {
      "cell_type": "code",
      "source": [
        "ports.pop(0)\n",
        "print(ports)"
      ],
      "metadata": {
        "colab": {
          "base_uri": "https://localhost:8080/"
        },
        "id": "XAQbWFhw8iSC",
        "outputId": "9cf431c1-1c37-425e-dc36-8d9bc4515900"
      },
      "execution_count": 39,
      "outputs": [
        {
          "output_type": "stream",
          "name": "stdout",
          "text": [
            "['443', '25', 23, 8080]\n"
          ]
        }
      ]
    },
    {
      "cell_type": "code",
      "source": [
        "ports.clear()\n",
        "print(ports)"
      ],
      "metadata": {
        "colab": {
          "base_uri": "https://localhost:8080/"
        },
        "id": "Aad5hrTY9Qwp",
        "outputId": "69fb08e2-23b5-491f-b9df-e8ad670a7da6"
      },
      "execution_count": 41,
      "outputs": [
        {
          "output_type": "stream",
          "name": "stdout",
          "text": [
            "[]\n"
          ]
        }
      ]
    },
    {
      "cell_type": "code",
      "source": [
        "del ports\n",
        "print(ports)"
      ],
      "metadata": {
        "colab": {
          "base_uri": "https://localhost:8080/",
          "height": 159
        },
        "id": "WuxtdlC9-XxK",
        "outputId": "bcfc6ad8-2d1e-44f3-d826-5291dd58a1e1"
      },
      "execution_count": 42,
      "outputs": [
        {
          "output_type": "error",
          "ename": "NameError",
          "evalue": "name 'ports' is not defined",
          "traceback": [
            "\u001b[0;31m---------------------------------------------------------------------------\u001b[0m",
            "\u001b[0;31mNameError\u001b[0m                                 Traceback (most recent call last)",
            "\u001b[0;32m<ipython-input-42-06452ff9d99f>\u001b[0m in \u001b[0;36m<cell line: 2>\u001b[0;34m()\u001b[0m\n\u001b[1;32m      1\u001b[0m \u001b[0;32mdel\u001b[0m \u001b[0mports\u001b[0m\u001b[0;34m\u001b[0m\u001b[0;34m\u001b[0m\u001b[0m\n\u001b[0;32m----> 2\u001b[0;31m \u001b[0mprint\u001b[0m\u001b[0;34m(\u001b[0m\u001b[0mports\u001b[0m\u001b[0;34m)\u001b[0m\u001b[0;34m\u001b[0m\u001b[0;34m\u001b[0m\u001b[0m\n\u001b[0m",
            "\u001b[0;31mNameError\u001b[0m: name 'ports' is not defined"
          ]
        }
      ]
    },
    {
      "cell_type": "markdown",
      "source": [
        "Looping through a list variable"
      ],
      "metadata": {
        "id": "V4nOzEdc_2kq"
      }
    },
    {
      "cell_type": "code",
      "source": [
        "all_ports = [\"21\", \"22\", \"443\", \"80\"]\n",
        "print(all_ports)"
      ],
      "metadata": {
        "colab": {
          "base_uri": "https://localhost:8080/"
        },
        "id": "d_9YgIk1_8gE",
        "outputId": "87af910c-1f68-4428-8060-23271df03e11"
      },
      "execution_count": 54,
      "outputs": [
        {
          "output_type": "stream",
          "name": "stdout",
          "text": [
            "['21', '22', '443', '80']\n"
          ]
        }
      ]
    },
    {
      "cell_type": "code",
      "source": [
        "for port in all_ports:\n",
        "  print(port)"
      ],
      "metadata": {
        "colab": {
          "base_uri": "https://localhost:8080/"
        },
        "id": "QIqq8tU-AZOE",
        "outputId": "6815daf7-a063-4a40-ba0d-88c33f7278fa"
      },
      "execution_count": 56,
      "outputs": [
        {
          "output_type": "stream",
          "name": "stdout",
          "text": [
            "21\n",
            "22\n",
            "443\n",
            "80\n"
          ]
        }
      ]
    },
    {
      "cell_type": "code",
      "source": [
        "for porit in all_ports:\n",
        "  if port == \"21\":\n",
        "    print (\"This port is not secure\")\n",
        "    break\n",
        "  else:\n",
        "    print (\"This port is secure\")"
      ],
      "metadata": {
        "colab": {
          "base_uri": "https://localhost:8080/"
        },
        "id": "LdtXSCzAAhCF",
        "outputId": "ea0f327e-9f37-4f9b-931b-0ca4a7d09999"
      },
      "execution_count": 58,
      "outputs": [
        {
          "output_type": "stream",
          "name": "stdout",
          "text": [
            "This port is secure\n",
            "This port is secure\n",
            "This port is secure\n",
            "This port is secure\n"
          ]
        }
      ]
    }
  ]
}